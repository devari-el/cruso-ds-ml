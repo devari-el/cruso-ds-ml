{
 "cells": [
  {
   "cell_type": "markdown",
   "id": "d84c2f71-7b2c-43c4-9cb6-07f55dfe5a03",
   "metadata": {},
   "source": [
    "# Amostragens"
   ]
  },
  {
   "cell_type": "markdown",
   "id": "37cf54fa-bca1-40df-8596-e35fd132d4ff",
   "metadata": {},
   "source": [
    "## 1. Carregando importações e arquivos"
   ]
  },
  {
   "cell_type": "code",
   "execution_count": 59,
   "id": "ce087eee-69e5-4886-88fd-2221a4bf578c",
   "metadata": {},
   "outputs": [],
   "source": [
    "import pandas as pd\n",
    "import random\n",
    "import numpy as np"
   ]
  },
  {
   "cell_type": "code",
   "execution_count": 60,
   "id": "2562579a-6c89-4774-8593-9b2b30e3c0f1",
   "metadata": {},
   "outputs": [],
   "source": [
    "dataset = pd.read_csv('census.csv')"
   ]
  },
  {
   "cell_type": "code",
   "execution_count": 61,
   "id": "e7d5536b-aa47-4a30-a9a9-812915da3dcc",
   "metadata": {},
   "outputs": [
    {
     "name": "stdout",
     "output_type": "stream",
     "text": [
      "<class 'pandas.core.frame.DataFrame'>\n",
      "RangeIndex: 32561 entries, 0 to 32560\n",
      "Data columns (total 15 columns):\n",
      " #   Column          Non-Null Count  Dtype \n",
      "---  ------          --------------  ----- \n",
      " 0   age             32561 non-null  int64 \n",
      " 1   workclass       32561 non-null  object\n",
      " 2   final-weight    32561 non-null  int64 \n",
      " 3   education       32561 non-null  object\n",
      " 4   education-num   32561 non-null  int64 \n",
      " 5   marital-status  32561 non-null  object\n",
      " 6   occupation      32561 non-null  object\n",
      " 7   relationship    32561 non-null  object\n",
      " 8   race            32561 non-null  object\n",
      " 9   sex             32561 non-null  object\n",
      " 10  capital-gain    32561 non-null  int64 \n",
      " 11  capital-loos    32561 non-null  int64 \n",
      " 12  hour-per-week   32561 non-null  int64 \n",
      " 13  native-country  32561 non-null  object\n",
      " 14  income          32561 non-null  object\n",
      "dtypes: int64(6), object(9)\n",
      "memory usage: 3.7+ MB\n"
     ]
    }
   ],
   "source": [
    "dataset.info()"
   ]
  },
  {
   "cell_type": "code",
   "execution_count": 62,
   "id": "0486d168-cc06-4913-a26e-8c4fb1a54c28",
   "metadata": {},
   "outputs": [
    {
     "data": {
      "text/html": [
       "<div>\n",
       "<style scoped>\n",
       "    .dataframe tbody tr th:only-of-type {\n",
       "        vertical-align: middle;\n",
       "    }\n",
       "\n",
       "    .dataframe tbody tr th {\n",
       "        vertical-align: top;\n",
       "    }\n",
       "\n",
       "    .dataframe thead th {\n",
       "        text-align: right;\n",
       "    }\n",
       "</style>\n",
       "<table border=\"1\" class=\"dataframe\">\n",
       "  <thead>\n",
       "    <tr style=\"text-align: right;\">\n",
       "      <th></th>\n",
       "      <th>age</th>\n",
       "      <th>workclass</th>\n",
       "      <th>final-weight</th>\n",
       "      <th>education</th>\n",
       "      <th>education-num</th>\n",
       "      <th>marital-status</th>\n",
       "      <th>occupation</th>\n",
       "      <th>relationship</th>\n",
       "      <th>race</th>\n",
       "      <th>sex</th>\n",
       "      <th>capital-gain</th>\n",
       "      <th>capital-loos</th>\n",
       "      <th>hour-per-week</th>\n",
       "      <th>native-country</th>\n",
       "      <th>income</th>\n",
       "    </tr>\n",
       "  </thead>\n",
       "  <tbody>\n",
       "    <tr>\n",
       "      <th>0</th>\n",
       "      <td>39</td>\n",
       "      <td>State-gov</td>\n",
       "      <td>77516</td>\n",
       "      <td>Bachelors</td>\n",
       "      <td>13</td>\n",
       "      <td>Never-married</td>\n",
       "      <td>Adm-clerical</td>\n",
       "      <td>Not-in-family</td>\n",
       "      <td>White</td>\n",
       "      <td>Male</td>\n",
       "      <td>2174</td>\n",
       "      <td>0</td>\n",
       "      <td>40</td>\n",
       "      <td>United-States</td>\n",
       "      <td>&lt;=50K</td>\n",
       "    </tr>\n",
       "    <tr>\n",
       "      <th>1</th>\n",
       "      <td>50</td>\n",
       "      <td>Self-emp-not-inc</td>\n",
       "      <td>83311</td>\n",
       "      <td>Bachelors</td>\n",
       "      <td>13</td>\n",
       "      <td>Married-civ-spouse</td>\n",
       "      <td>Exec-managerial</td>\n",
       "      <td>Husband</td>\n",
       "      <td>White</td>\n",
       "      <td>Male</td>\n",
       "      <td>0</td>\n",
       "      <td>0</td>\n",
       "      <td>13</td>\n",
       "      <td>United-States</td>\n",
       "      <td>&lt;=50K</td>\n",
       "    </tr>\n",
       "    <tr>\n",
       "      <th>2</th>\n",
       "      <td>38</td>\n",
       "      <td>Private</td>\n",
       "      <td>215646</td>\n",
       "      <td>HS-grad</td>\n",
       "      <td>9</td>\n",
       "      <td>Divorced</td>\n",
       "      <td>Handlers-cleaners</td>\n",
       "      <td>Not-in-family</td>\n",
       "      <td>White</td>\n",
       "      <td>Male</td>\n",
       "      <td>0</td>\n",
       "      <td>0</td>\n",
       "      <td>40</td>\n",
       "      <td>United-States</td>\n",
       "      <td>&lt;=50K</td>\n",
       "    </tr>\n",
       "    <tr>\n",
       "      <th>3</th>\n",
       "      <td>53</td>\n",
       "      <td>Private</td>\n",
       "      <td>234721</td>\n",
       "      <td>11th</td>\n",
       "      <td>7</td>\n",
       "      <td>Married-civ-spouse</td>\n",
       "      <td>Handlers-cleaners</td>\n",
       "      <td>Husband</td>\n",
       "      <td>Black</td>\n",
       "      <td>Male</td>\n",
       "      <td>0</td>\n",
       "      <td>0</td>\n",
       "      <td>40</td>\n",
       "      <td>United-States</td>\n",
       "      <td>&lt;=50K</td>\n",
       "    </tr>\n",
       "    <tr>\n",
       "      <th>4</th>\n",
       "      <td>28</td>\n",
       "      <td>Private</td>\n",
       "      <td>338409</td>\n",
       "      <td>Bachelors</td>\n",
       "      <td>13</td>\n",
       "      <td>Married-civ-spouse</td>\n",
       "      <td>Prof-specialty</td>\n",
       "      <td>Wife</td>\n",
       "      <td>Black</td>\n",
       "      <td>Female</td>\n",
       "      <td>0</td>\n",
       "      <td>0</td>\n",
       "      <td>40</td>\n",
       "      <td>Cuba</td>\n",
       "      <td>&lt;=50K</td>\n",
       "    </tr>\n",
       "  </tbody>\n",
       "</table>\n",
       "</div>"
      ],
      "text/plain": [
       "   age          workclass  final-weight   education  education-num  \\\n",
       "0   39          State-gov         77516   Bachelors             13   \n",
       "1   50   Self-emp-not-inc         83311   Bachelors             13   \n",
       "2   38            Private        215646     HS-grad              9   \n",
       "3   53            Private        234721        11th              7   \n",
       "4   28            Private        338409   Bachelors             13   \n",
       "\n",
       "        marital-status          occupation    relationship    race      sex  \\\n",
       "0        Never-married        Adm-clerical   Not-in-family   White     Male   \n",
       "1   Married-civ-spouse     Exec-managerial         Husband   White     Male   \n",
       "2             Divorced   Handlers-cleaners   Not-in-family   White     Male   \n",
       "3   Married-civ-spouse   Handlers-cleaners         Husband   Black     Male   \n",
       "4   Married-civ-spouse      Prof-specialty            Wife   Black   Female   \n",
       "\n",
       "   capital-gain  capital-loos  hour-per-week  native-country  income  \n",
       "0          2174             0             40   United-States   <=50K  \n",
       "1             0             0             13   United-States   <=50K  \n",
       "2             0             0             40   United-States   <=50K  \n",
       "3             0             0             40   United-States   <=50K  \n",
       "4             0             0             40            Cuba   <=50K  "
      ]
     },
     "execution_count": 62,
     "metadata": {},
     "output_type": "execute_result"
    }
   ],
   "source": [
    "dataset.head()"
   ]
  },
  {
   "cell_type": "code",
   "execution_count": 63,
   "id": "e7d196fb-48ea-473e-9b0a-a9b915e02054",
   "metadata": {},
   "outputs": [
    {
     "data": {
      "text/html": [
       "<div>\n",
       "<style scoped>\n",
       "    .dataframe tbody tr th:only-of-type {\n",
       "        vertical-align: middle;\n",
       "    }\n",
       "\n",
       "    .dataframe tbody tr th {\n",
       "        vertical-align: top;\n",
       "    }\n",
       "\n",
       "    .dataframe thead th {\n",
       "        text-align: right;\n",
       "    }\n",
       "</style>\n",
       "<table border=\"1\" class=\"dataframe\">\n",
       "  <thead>\n",
       "    <tr style=\"text-align: right;\">\n",
       "      <th></th>\n",
       "      <th>age</th>\n",
       "      <th>final-weight</th>\n",
       "      <th>education-num</th>\n",
       "      <th>capital-gain</th>\n",
       "      <th>capital-loos</th>\n",
       "      <th>hour-per-week</th>\n",
       "    </tr>\n",
       "  </thead>\n",
       "  <tbody>\n",
       "    <tr>\n",
       "      <th>count</th>\n",
       "      <td>32561.000000</td>\n",
       "      <td>3.256100e+04</td>\n",
       "      <td>32561.000000</td>\n",
       "      <td>32561.000000</td>\n",
       "      <td>32561.000000</td>\n",
       "      <td>32561.000000</td>\n",
       "    </tr>\n",
       "    <tr>\n",
       "      <th>mean</th>\n",
       "      <td>38.581647</td>\n",
       "      <td>1.897784e+05</td>\n",
       "      <td>10.080679</td>\n",
       "      <td>1077.648844</td>\n",
       "      <td>87.303830</td>\n",
       "      <td>40.437456</td>\n",
       "    </tr>\n",
       "    <tr>\n",
       "      <th>std</th>\n",
       "      <td>13.640433</td>\n",
       "      <td>1.055500e+05</td>\n",
       "      <td>2.572720</td>\n",
       "      <td>7385.292085</td>\n",
       "      <td>402.960219</td>\n",
       "      <td>12.347429</td>\n",
       "    </tr>\n",
       "    <tr>\n",
       "      <th>min</th>\n",
       "      <td>17.000000</td>\n",
       "      <td>1.228500e+04</td>\n",
       "      <td>1.000000</td>\n",
       "      <td>0.000000</td>\n",
       "      <td>0.000000</td>\n",
       "      <td>1.000000</td>\n",
       "    </tr>\n",
       "    <tr>\n",
       "      <th>25%</th>\n",
       "      <td>28.000000</td>\n",
       "      <td>1.178270e+05</td>\n",
       "      <td>9.000000</td>\n",
       "      <td>0.000000</td>\n",
       "      <td>0.000000</td>\n",
       "      <td>40.000000</td>\n",
       "    </tr>\n",
       "    <tr>\n",
       "      <th>50%</th>\n",
       "      <td>37.000000</td>\n",
       "      <td>1.783560e+05</td>\n",
       "      <td>10.000000</td>\n",
       "      <td>0.000000</td>\n",
       "      <td>0.000000</td>\n",
       "      <td>40.000000</td>\n",
       "    </tr>\n",
       "    <tr>\n",
       "      <th>75%</th>\n",
       "      <td>48.000000</td>\n",
       "      <td>2.370510e+05</td>\n",
       "      <td>12.000000</td>\n",
       "      <td>0.000000</td>\n",
       "      <td>0.000000</td>\n",
       "      <td>45.000000</td>\n",
       "    </tr>\n",
       "    <tr>\n",
       "      <th>max</th>\n",
       "      <td>90.000000</td>\n",
       "      <td>1.484705e+06</td>\n",
       "      <td>16.000000</td>\n",
       "      <td>99999.000000</td>\n",
       "      <td>4356.000000</td>\n",
       "      <td>99.000000</td>\n",
       "    </tr>\n",
       "  </tbody>\n",
       "</table>\n",
       "</div>"
      ],
      "text/plain": [
       "                age  final-weight  education-num  capital-gain  capital-loos  \\\n",
       "count  32561.000000  3.256100e+04   32561.000000  32561.000000  32561.000000   \n",
       "mean      38.581647  1.897784e+05      10.080679   1077.648844     87.303830   \n",
       "std       13.640433  1.055500e+05       2.572720   7385.292085    402.960219   \n",
       "min       17.000000  1.228500e+04       1.000000      0.000000      0.000000   \n",
       "25%       28.000000  1.178270e+05       9.000000      0.000000      0.000000   \n",
       "50%       37.000000  1.783560e+05      10.000000      0.000000      0.000000   \n",
       "75%       48.000000  2.370510e+05      12.000000      0.000000      0.000000   \n",
       "max       90.000000  1.484705e+06      16.000000  99999.000000   4356.000000   \n",
       "\n",
       "       hour-per-week  \n",
       "count   32561.000000  \n",
       "mean       40.437456  \n",
       "std        12.347429  \n",
       "min         1.000000  \n",
       "25%        40.000000  \n",
       "50%        40.000000  \n",
       "75%        45.000000  \n",
       "max        99.000000  "
      ]
     },
     "execution_count": 63,
     "metadata": {},
     "output_type": "execute_result"
    }
   ],
   "source": [
    "dataset.describe()"
   ]
  },
  {
   "cell_type": "markdown",
   "id": "6d601789-6dca-4be8-b8b7-6aac6578470f",
   "metadata": {},
   "source": [
    "## 2. Amostragem Aleatória Simples (AAS)"
   ]
  },
  {
   "cell_type": "markdown",
   "id": "82ebbc04-76d7-4d7c-a4b2-6a0c3ecc10da",
   "metadata": {},
   "source": [
    "### Conceito:"
   ]
  },
  {
   "cell_type": "markdown",
   "id": "65567467-cb88-4fdf-aedd-48f6fe0d744a",
   "metadata": {},
   "source": [
    "A __AAS__ é um método de amostragem no qual __toda unidade da população tem uma probabilidade igual e conhecida de ser selecionada__ para compor a amostra.\n",
    "O objetivo principal é garantir que a amostra seja __representativa__ do todo, eliminando o __viés de seleção__ e permitindo que os resultados da amostra sejam generalizados para a população.\n",
    "\n",
    "AAS deve seguir dois princípios para ser ___simples___ e ___aleatória___:\n",
    "1. __Igual Probabilidade:__ Uma população com ___N___ indivíduos, para uma amostra de n, deverá contar com a mesma probabilidade de qualquer ___n___ ser escolhido para compor a amostra, representado por __$\\frac{n}{N}$__.\n",
    "\n",
    "2. __Independência:__ A seleção de uma unidade não influencia a seleção de nenhuma outra. A amostra é escolhida através de um processo puramente aleatório (como um sorteio)."
   ]
  },
  {
   "cell_type": "markdown",
   "id": "f6f3241a-2958-4093-9890-35f371a224bf",
   "metadata": {},
   "source": [
    "### Como é feita (Processo Teórico):"
   ]
  },
  {
   "cell_type": "markdown",
   "id": "37bdcb30-581b-4690-ae02-4a5b5ceb49b5",
   "metadata": {},
   "source": [
    "1. __Identificar População:__ Determinar o conjunto completo de unidades (___N___)\n",
    "\n",
    "2. __Criar Lista de Seleção (Frame):__ Atribuir um rótulo único (por ex: índice númerico) a cada unidade da população.\n",
    "\n",
    "3. __Sortear:__ Usar um gerador de números aleatórios ou um método de sorteio físico para selecionar o número desejado de rótulos (___n___)\n",
    "\n",
    "4. __Coletar:__ Coletar os dados apenas das unidades cujos rótulos foram sorteados.\n",
    "\n",
    "> __AAS com ou sem Reposição__:\n",
    "> * __Sem Reposição:__ Uma vez sorteado, o item é removido da população, e não pode ser sorteado novamente.\n",
    ">   \n",
    "> * __Com Resposição:__ O item sorteado é 'devolvido', podendo ser sorteado novamente."
   ]
  },
  {
   "cell_type": "markdown",
   "id": "0945aa41-cf6f-4462-b97b-76a9a3e3657a",
   "metadata": {},
   "source": [
    "### Implementação:"
   ]
  },
  {
   "cell_type": "code",
   "execution_count": 64,
   "id": "e5e430d4-058a-44d7-b3b3-9c6cc89ccd8d",
   "metadata": {},
   "outputs": [],
   "source": [
    "df_aas = dataset.sample(n=100) ##AAS que coleta 100 unidades aleatórias"
   ]
  },
  {
   "cell_type": "code",
   "execution_count": 65,
   "id": "57aa6dea-acb2-46c6-96bf-83a68c540bab",
   "metadata": {},
   "outputs": [
    {
     "data": {
      "text/plain": [
       "(100, 15)"
      ]
     },
     "execution_count": 65,
     "metadata": {},
     "output_type": "execute_result"
    }
   ],
   "source": [
    "df_aas.shape"
   ]
  },
  {
   "cell_type": "code",
   "execution_count": 66,
   "id": "e7b1e0b9-2ee7-4113-a358-49149e016a1a",
   "metadata": {},
   "outputs": [
    {
     "data": {
      "text/html": [
       "<div>\n",
       "<style scoped>\n",
       "    .dataframe tbody tr th:only-of-type {\n",
       "        vertical-align: middle;\n",
       "    }\n",
       "\n",
       "    .dataframe tbody tr th {\n",
       "        vertical-align: top;\n",
       "    }\n",
       "\n",
       "    .dataframe thead th {\n",
       "        text-align: right;\n",
       "    }\n",
       "</style>\n",
       "<table border=\"1\" class=\"dataframe\">\n",
       "  <thead>\n",
       "    <tr style=\"text-align: right;\">\n",
       "      <th></th>\n",
       "      <th>age</th>\n",
       "      <th>workclass</th>\n",
       "      <th>final-weight</th>\n",
       "      <th>education</th>\n",
       "      <th>education-num</th>\n",
       "      <th>marital-status</th>\n",
       "      <th>occupation</th>\n",
       "      <th>relationship</th>\n",
       "      <th>race</th>\n",
       "      <th>sex</th>\n",
       "      <th>capital-gain</th>\n",
       "      <th>capital-loos</th>\n",
       "      <th>hour-per-week</th>\n",
       "      <th>native-country</th>\n",
       "      <th>income</th>\n",
       "    </tr>\n",
       "  </thead>\n",
       "  <tbody>\n",
       "    <tr>\n",
       "      <th>15019</th>\n",
       "      <td>25</td>\n",
       "      <td>Private</td>\n",
       "      <td>38090</td>\n",
       "      <td>Bachelors</td>\n",
       "      <td>13</td>\n",
       "      <td>Never-married</td>\n",
       "      <td>Sales</td>\n",
       "      <td>Not-in-family</td>\n",
       "      <td>White</td>\n",
       "      <td>Male</td>\n",
       "      <td>0</td>\n",
       "      <td>0</td>\n",
       "      <td>44</td>\n",
       "      <td>United-States</td>\n",
       "      <td>&lt;=50K</td>\n",
       "    </tr>\n",
       "    <tr>\n",
       "      <th>1572</th>\n",
       "      <td>24</td>\n",
       "      <td>Private</td>\n",
       "      <td>198148</td>\n",
       "      <td>Some-college</td>\n",
       "      <td>10</td>\n",
       "      <td>Never-married</td>\n",
       "      <td>Other-service</td>\n",
       "      <td>Own-child</td>\n",
       "      <td>White</td>\n",
       "      <td>Male</td>\n",
       "      <td>0</td>\n",
       "      <td>0</td>\n",
       "      <td>30</td>\n",
       "      <td>United-States</td>\n",
       "      <td>&lt;=50K</td>\n",
       "    </tr>\n",
       "    <tr>\n",
       "      <th>5709</th>\n",
       "      <td>37</td>\n",
       "      <td>Federal-gov</td>\n",
       "      <td>129573</td>\n",
       "      <td>Doctorate</td>\n",
       "      <td>16</td>\n",
       "      <td>Married-civ-spouse</td>\n",
       "      <td>Prof-specialty</td>\n",
       "      <td>Husband</td>\n",
       "      <td>White</td>\n",
       "      <td>Male</td>\n",
       "      <td>0</td>\n",
       "      <td>0</td>\n",
       "      <td>72</td>\n",
       "      <td>?</td>\n",
       "      <td>&gt;50K</td>\n",
       "    </tr>\n",
       "    <tr>\n",
       "      <th>32437</th>\n",
       "      <td>19</td>\n",
       "      <td>Private</td>\n",
       "      <td>60890</td>\n",
       "      <td>HS-grad</td>\n",
       "      <td>9</td>\n",
       "      <td>Never-married</td>\n",
       "      <td>Craft-repair</td>\n",
       "      <td>Not-in-family</td>\n",
       "      <td>White</td>\n",
       "      <td>Male</td>\n",
       "      <td>0</td>\n",
       "      <td>0</td>\n",
       "      <td>49</td>\n",
       "      <td>United-States</td>\n",
       "      <td>&lt;=50K</td>\n",
       "    </tr>\n",
       "    <tr>\n",
       "      <th>24059</th>\n",
       "      <td>19</td>\n",
       "      <td>Private</td>\n",
       "      <td>84610</td>\n",
       "      <td>Some-college</td>\n",
       "      <td>10</td>\n",
       "      <td>Never-married</td>\n",
       "      <td>Other-service</td>\n",
       "      <td>Own-child</td>\n",
       "      <td>White</td>\n",
       "      <td>Female</td>\n",
       "      <td>0</td>\n",
       "      <td>0</td>\n",
       "      <td>30</td>\n",
       "      <td>United-States</td>\n",
       "      <td>&lt;=50K</td>\n",
       "    </tr>\n",
       "  </tbody>\n",
       "</table>\n",
       "</div>"
      ],
      "text/plain": [
       "       age     workclass  final-weight      education  education-num  \\\n",
       "15019   25       Private         38090      Bachelors             13   \n",
       "1572    24       Private        198148   Some-college             10   \n",
       "5709    37   Federal-gov        129573      Doctorate             16   \n",
       "32437   19       Private         60890        HS-grad              9   \n",
       "24059   19       Private         84610   Some-college             10   \n",
       "\n",
       "            marital-status       occupation    relationship    race      sex  \\\n",
       "15019        Never-married            Sales   Not-in-family   White     Male   \n",
       "1572         Never-married    Other-service       Own-child   White     Male   \n",
       "5709    Married-civ-spouse   Prof-specialty         Husband   White     Male   \n",
       "32437        Never-married     Craft-repair   Not-in-family   White     Male   \n",
       "24059        Never-married    Other-service       Own-child   White   Female   \n",
       "\n",
       "       capital-gain  capital-loos  hour-per-week  native-country  income  \n",
       "15019             0             0             44   United-States   <=50K  \n",
       "1572              0             0             30   United-States   <=50K  \n",
       "5709              0             0             72               ?    >50K  \n",
       "32437             0             0             49   United-States   <=50K  \n",
       "24059             0             0             30   United-States   <=50K  "
      ]
     },
     "execution_count": 66,
     "metadata": {},
     "output_type": "execute_result"
    }
   ],
   "source": [
    "df_aas.head()"
   ]
  },
  {
   "cell_type": "markdown",
   "id": "d5ed57cc-11e7-4645-9cd3-90d306bdc709",
   "metadata": {},
   "source": [
    "# 3. Amostragem Sistemática"
   ]
  },
  {
   "cell_type": "markdown",
   "id": "442cbe37-41da-41c9-b94d-6ed2f9fcb95b",
   "metadata": {},
   "source": [
    "## Conceito:"
   ]
  },
  {
   "cell_type": "markdown",
   "id": "dbe9df87-ab2e-499a-8976-37c46bb87437",
   "metadata": {},
   "source": [
    "A Amostragem Sistemática é um método de seleção de amostras que se baseia na escolha de elementos em __intervalos regulares__ (fixos), a partir de um __ponto de partida aleatório__. É um processo mais simples e rápido que a Amostragem Aleatória Simples, especialmente quando a população já está organizada em uma lista."
   ]
  },
  {
   "cell_type": "markdown",
   "id": "b3195313-00db-49a8-b293-7563b2e0702e",
   "metadata": {},
   "source": [
    "## Como é feita (Processo Teórico):"
   ]
  },
  {
   "cell_type": "markdown",
   "id": "5e10b56d-5fad-477d-896c-8e951a09df6c",
   "metadata": {},
   "source": [
    "O processo envolve três etapas principais, usando ___N___ como o tamanho da população e ___n___ como o tamanho da amostra desejada:\n",
    "\n",
    "1. __Cálculo do Intervalo (___k___):__\n",
    "\n",
    "    * O intervalo de seleção é determinado pela divisão: ___k___ = $\\frac{N}{n}$\n",
    "\n",
    "    * _Exemplo: Se ___N___ = 1000 e ___n___ = 100, o intervalo ___k___ é 1000/100 = 10._\n",
    "  \n",
    "      \n",
    "2. __Sorteio do Ponto de Partida:__\n",
    "\n",
    "    * Um número aleatório (S) é sorteado dentro do intervalo 1 a k. Este será o primeiro elemento da amostra.\n",
    "\n",
    "    * _Exemplo: Se ___k___ = 10, um número entre 1 e 10 é sorteado. Suponha que seja ___S___ = 4._\n",
    "\n",
    "3. Seleção Sistemática:\n",
    "\n",
    "    * Os elementos seguintes são selecionados sequencialmente, adicionando-se o intervalo ___k___ ao número do elemento anterior.\n",
    "\n",
    "    * _Exemplo: Se o primeiro elemento é o 4º da lista, o próximo será o 4 + 10 = 14º, depois o 14 + 10  =24º, e assim por diante, até que se atinja o total de 100 elementos._"
   ]
  },
  {
   "cell_type": "markdown",
   "id": "9b7a7673-8186-46c7-80fc-8a8444136791",
   "metadata": {},
   "source": [
    "## Implementação:"
   ]
  },
  {
   "cell_type": "code",
   "execution_count": 67,
   "id": "f6ae170f-7e90-4e79-8813-78f2bbcc76f4",
   "metadata": {},
   "outputs": [
    {
     "name": "stdout",
     "output_type": "stream",
     "text": [
      "Número de índices selecionados: 100\n",
      "Índices selecionados: [68, 393, 718, 1043, 1368, 1693, 2018, 2343, 2668, 2993, 3318, 3643, 3968, 4293, 4618, 4943, 5268, 5593, 5918, 6243, 6568, 6893, 7218, 7543, 7868, 8193, 8518, 8843, 9168, 9493, 9818, 10143, 10468, 10793, 11118, 11443, 11768, 12093, 12418, 12743, 13068, 13393, 13718, 14043, 14368, 14693, 15018, 15343, 15668, 15993, 16318, 16643, 16968, 17293, 17618, 17943, 18268, 18593, 18918, 19243, 19568, 19893, 20218, 20543, 20868, 21193, 21518, 21843, 22168, 22493, 22818, 23143, 23468, 23793, 24118, 24443, 24768, 25093, 25418, 25743, 26068, 26393, 26718, 27043, 27368, 27693, 28018, 28343, 28668, 28993, 29318, 29643, 29968, 30293, 30618, 30943, 31268, 31593, 31918, 32243]\n"
     ]
    }
   ],
   "source": [
    "# Utilizando Python Puro\n",
    "\n",
    "amostras = 100\n",
    "tamanho_dataset = len(dataset)\n",
    "passo = tamanho_dataset // amostras\n",
    "\n",
    "random.seed(1) # Travando o num gerado somente para obter o mesmo resultado\n",
    "inicio = random.randint(0, passo - 1)\n",
    "\n",
    "indices = list(range(inicio, tamanho_dataset, passo))\n",
    "\n",
    "print(f\"\"\"Número de índices selecionados: {len(indices)}\n",
    "Índices selecionados: {indices}\"\"\")"
   ]
  },
  {
   "cell_type": "code",
   "execution_count": 68,
   "id": "07f81a58-654c-4681-a703-51a6276116ba",
   "metadata": {},
   "outputs": [
    {
     "name": "stdout",
     "output_type": "stream",
     "text": [
      "Número de índices selecionados: 100\n",
      "Índices selecionados: [   68   393   718  1043  1368  1693  2018  2343  2668  2993  3318  3643\n",
      "  3968  4293  4618  4943  5268  5593  5918  6243  6568  6893  7218  7543\n",
      "  7868  8193  8518  8843  9168  9493  9818 10143 10468 10793 11118 11443\n",
      " 11768 12093 12418 12743 13068 13393 13718 14043 14368 14693 15018 15343\n",
      " 15668 15993 16318 16643 16968 17293 17618 17943 18268 18593 18918 19243\n",
      " 19568 19893 20218 20543 20868 21193 21518 21843 22168 22493 22818 23143\n",
      " 23468 23793 24118 24443 24768 25093 25418 25743 26068 26393 26718 27043\n",
      " 27368 27693 28018 28343 28668 28993 29318 29643 29968 30293 30618 30943\n",
      " 31268 31593 31918 32243]\n"
     ]
    }
   ],
   "source": [
    "# Utilizando Numpy\n",
    "\n",
    "amostras = 100\n",
    "tamanho_dataset = len(dataset)\n",
    "passo = tamanho_dataset // amostras\n",
    "\n",
    "random.seed(1) # Travando o num gerado somente para obter o mesmo resultado\n",
    "inicio = random.randint(0, passo - 1)\n",
    "\n",
    "indices =np.arange(inicio, len(dataset), step = passo)\n",
    "\n",
    "print(f\"\"\"Número de índices selecionados: {len(indices)}\n",
    "Índices selecionados: {indices}\"\"\")"
   ]
  },
  {
   "cell_type": "code",
   "execution_count": null,
   "id": "2e9d7aa2-d82b-422e-a9cf-793ab9bd3641",
   "metadata": {},
   "outputs": [],
   "source": []
  }
 ],
 "metadata": {
  "kernelspec": {
   "display_name": "Python 3 (ipykernel)",
   "language": "python",
   "name": "python3"
  },
  "language_info": {
   "codemirror_mode": {
    "name": "ipython",
    "version": 3
   },
   "file_extension": ".py",
   "mimetype": "text/x-python",
   "name": "python",
   "nbconvert_exporter": "python",
   "pygments_lexer": "ipython3",
   "version": "3.13.7"
  }
 },
 "nbformat": 4,
 "nbformat_minor": 5
}
